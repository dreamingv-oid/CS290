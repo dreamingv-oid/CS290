{
  "nbformat": 4,
  "nbformat_minor": 0,
  "metadata": {
    "colab": {
      "provenance": [],
      "include_colab_link": true
    },
    "kernelspec": {
      "name": "python3",
      "display_name": "Python 3"
    },
    "language_info": {
      "name": "python"
    }
  },
  "cells": [
    {
      "cell_type": "markdown",
      "metadata": {
        "id": "view-in-github",
        "colab_type": "text"
      },
      "source": [
        "<a href=\"https://colab.research.google.com/github/dreamingv-oid/CS290/blob/main/Project3.ipynb\" target=\"_parent\"><img src=\"https://colab.research.google.com/assets/colab-badge.svg\" alt=\"Open In Colab\"/></a>"
      ]
    },
    {
      "cell_type": "markdown",
      "source": [
        "## Khush Dakwala and Benjamin Jackson"
      ],
      "metadata": {
        "id": "J_uCNDcCjAyR"
      }
    },
    {
      "cell_type": "code",
      "execution_count": 1,
      "metadata": {
        "id": "lTjgxHHQVQVL"
      },
      "outputs": [],
      "source": [
        "import pandas as pd\n",
        "from sklearn.tree import DecisionTreeClassifier, DecisionTreeRegressor\n",
        "from sklearn.preprocessing import OneHotEncoder\n",
        "from sklearn.compose import ColumnTransformer\n",
        "from sklearn.pipeline import Pipeline\n",
        "import numpy as np\n",
        "\n",
        "def Attribute_selection_method(task, dataset, target_var, criterion=None):\n",
        "    # Separate features and target\n",
        "    X = dataset.drop(columns=[target_var])\n",
        "    y = dataset[target_var]\n",
        "\n",
        "    # Identify categorical columns\n",
        "    categorical_cols = X.select_dtypes(include=['object']).columns\n",
        "\n",
        "    # Create a preprocessor for categorical columns (One-Hot Encoding)\n",
        "    preprocessor = ColumnTransformer(\n",
        "        transformers=[\n",
        "            ('cat', OneHotEncoder(handle_unknown='ignore'), categorical_cols)\n",
        "        ], remainder='passthrough'\n",
        "    )\n",
        "\n",
        "    # Select the appropriate model based on task type and criterion\n",
        "    if task == \"classification\":\n",
        "        if criterion == \"entropy\":\n",
        "            model = DecisionTreeClassifier(criterion=\"entropy\", random_state=42)\n",
        "        elif criterion == \"gini\":\n",
        "            model = DecisionTreeClassifier(criterion=\"gini\", random_state=42)\n",
        "        else:\n",
        "            raise ValueError(\"Invalid criterion for classification. Choose 'entropy' or 'gini'.\")\n",
        "    elif task == \"regression\":\n",
        "        model = DecisionTreeRegressor(criterion=\"squared_error\", random_state=42)\n",
        "    else:\n",
        "        raise ValueError(\"Invalid task type. Choose 'classification' or 'regression'.\")\n",
        "\n",
        "    # Create a pipeline with preprocessing and the model\n",
        "    pipeline = Pipeline(steps=[\n",
        "        ('preprocessor', preprocessor),\n",
        "        ('model', model)\n",
        "    ])\n",
        "\n",
        "    # Fit the model\n",
        "    pipeline.fit(X, y)\n",
        "\n",
        "    # Get feature importances and find the best feature\n",
        "    importances = pipeline.named_steps['model'].feature_importances_\n",
        "    best_feature_idx = np.argmax(importances)\n",
        "    best_feature = X.columns[best_feature_idx]\n",
        "\n",
        "    return best_feature\n"
      ]
    },
    {
      "cell_type": "markdown",
      "source": [
        "## Applying the method to Categorical and Numerical targets and comparing the split chosen between our method and sklearn's."
      ],
      "metadata": {
        "id": "r1gvIO2vLRm5"
      }
    },
    {
      "cell_type": "code",
      "source": [
        "# Load the dataset\n",
        "url = 'https://raw.githubusercontent.com/dreamingv-oid/CS290/main/train.csv'\n",
        "df = pd.read_csv(url)\n",
        "\n",
        "# Strip any whitespace characters from column names\n",
        "df.columns = df.columns.str.strip()\n",
        "\n",
        "# Drop rows with missing values\n",
        "df.dropna(inplace=True)\n",
        "\n",
        "# Apply the method to the classification dataset\n",
        "# Create a copy of the DataFrame for classification\n",
        "df_classification = df.copy()\n",
        "best_feature_classification = Attribute_selection_method(\"classification\", df_classification, \"satisfaction\", criterion=\"gini\")\n",
        "\n",
        "# Fit sklearn's DecisionTreeClassifier to compare first split\n",
        "X_classification = df_classification.drop(columns=[\"satisfaction\"])\n",
        "y_classification = df_classification[\"satisfaction\"]\n",
        "\n",
        "# Create and fit the classifier within a pipeline\n",
        "classifier = Pipeline(steps=[\n",
        "    ('preprocessor', ColumnTransformer(\n",
        "        transformers=[\n",
        "            ('cat', OneHotEncoder(handle_unknown='ignore'), X_classification.select_dtypes(include=['object']).columns)\n",
        "        ], remainder='passthrough'\n",
        "    )),\n",
        "    ('model', DecisionTreeClassifier(criterion=\"gini\", random_state=42))\n",
        "])\n",
        "\n",
        "classifier.fit(X_classification, y_classification)\n",
        "\n",
        "# Get the first split chosen by sklearn's DecisionTreeClassifier\n",
        "first_split_classification = classifier.named_steps['model'].tree_.feature[classifier.named_steps['model'].tree_.children_left[0]]\n",
        "\n",
        "# Apply the method to the regression dataset\n",
        "# Create a copy of the DataFrame for regression\n",
        "df_regression = df.copy()\n",
        "best_feature_regression = Attribute_selection_method(\"regression\", df_regression, \"Flight Distance\")\n",
        "\n",
        "# Fit sklearn's DecisionTreeRegressor to compare first split\n",
        "X_regression = df_regression.drop(columns=[\"Flight Distance\"])\n",
        "y_regression = df_regression[\"Flight Distance\"]\n",
        "\n",
        "# Create and fit the regressor within a pipeline\n",
        "regressor = Pipeline(steps=[\n",
        "    ('preprocessor', ColumnTransformer(\n",
        "        transformers=[\n",
        "            ('cat', OneHotEncoder(handle_unknown='ignore'), X_regression.select_dtypes(include=['object']).columns)\n",
        "        ], remainder='passthrough'\n",
        "    )),\n",
        "    ('model', DecisionTreeRegressor(criterion=\"squared_error\", random_state=42))\n",
        "])\n",
        "\n",
        "regressor.fit(X_regression, y_regression)\n",
        "\n",
        "# Get the first split chosen by sklearn's DecisionTreeRegressor\n",
        "first_split_regression = regressor.named_steps['model'].tree_.feature[regressor.named_steps['model'].tree_.children_left[0]]\n",
        "\n",
        "# Print the results together\n",
        "print(f\"Best splitting criterion for classification (Gini) via our method: {best_feature_classification}\")\n",
        "print(f\"Best splitting criterion for regression via our method: {best_feature_regression}\")\n",
        "\n",
        "# Print sklearn's first split features\n",
        "print(f\"First split feature chosen by sklearn's DecisionTreeClassifier: {X_classification.columns[first_split_classification]}\")\n",
        "print(f\"First split feature chosen by sklearn's DecisionTreeRegressor: {X_regression.columns[first_split_regression]}\")"
      ],
      "metadata": {
        "colab": {
          "base_uri": "https://localhost:8080/"
        },
        "id": "43f-vC84VWK5",
        "outputId": "fbd3e5ea-49ec-4474-f1df-14db675ec54d"
      },
      "execution_count": 2,
      "outputs": [
        {
          "output_type": "stream",
          "name": "stdout",
          "text": [
            "Best splitting criterion for classification (Gini) via our method: Baggage handling\n",
            "Best splitting criterion for regression via our method: Online boarding\n",
            "First split feature chosen by sklearn's DecisionTreeClassifier: Online boarding\n",
            "First split feature chosen by sklearn's DecisionTreeRegressor: Online boarding\n"
          ]
        }
      ]
    },
    {
      "cell_type": "code",
      "source": [
        ""
      ],
      "metadata": {
        "id": "L4h6DbU6wc5O"
      },
      "execution_count": null,
      "outputs": []
    }
  ]
}